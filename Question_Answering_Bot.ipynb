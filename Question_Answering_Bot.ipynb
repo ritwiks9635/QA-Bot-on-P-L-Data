{
  "cells": [
    {
      "cell_type": "markdown",
      "metadata": {
        "id": "view-in-github",
        "colab_type": "text"
      },
      "source": [
        "<a href=\"https://colab.research.google.com/github/ritwiks9635/QA-Bot-on-P-L-Data/blob/main/Question_Answering_Bot.ipynb\" target=\"_parent\"><img src=\"https://colab.research.google.com/assets/colab-badge.svg\" alt=\"Open In Colab\"/></a>"
      ]
    },
    {
      "cell_type": "code",
      "execution_count": null,
      "metadata": {
        "collapsed": true,
        "id": "D7crUqUqxhUI"
      },
      "outputs": [],
      "source": [
        "!pip install PyPDF2\n",
        "!pip install pdfplumber\n",
        "!pip install tabula-py\n",
        "!pip install langchain\n",
        "!pip install pinecone-client\n",
        "!pip install streamlit\n",
        "!pip install gradio\n",
        "!pip install sentence-transformers\n",
        "!pip install python-dotenv"
      ]
    },
    {
      "cell_type": "code",
      "execution_count": 2,
      "metadata": {
        "id": "3cY4F8_6E0C5"
      },
      "outputs": [],
      "source": [
        "%pip install -U -q \"google-generativeai>=0.8.3\""
      ]
    },
    {
      "cell_type": "code",
      "execution_count": 4,
      "metadata": {
        "id": "a03xYVZERcq7"
      },
      "outputs": [],
      "source": [
        "import os\n",
        "from dotenv import load_dotenv\n",
        "\n",
        "load_dotenv()\n",
        "\n",
        "Pine_API_KEY = os.getenv(\"Pine_API_KEY\")\n",
        "Gemini_API_KEY = os.getenv(\"Gemini_API_KEY\")"
      ]
    },
    {
      "cell_type": "markdown",
      "source": [
        "## **Extract Data from PDF Documents**"
      ],
      "metadata": {
        "id": "gq5HIrCunYW0"
      }
    },
    {
      "cell_type": "code",
      "execution_count": 6,
      "metadata": {
        "colab": {
          "base_uri": "https://localhost:8080/"
        },
        "collapsed": true,
        "id": "rzMNP_pYOgyW",
        "outputId": "cf1e4c35-61aa-4f68-a053-52ea1f083a8f"
      },
      "outputs": [
        {
          "output_type": "stream",
          "name": "stdout",
          "text": [
            "Extracted Text:\n",
            "Page 1:\n",
            "INFOSYS LIMITED AND SUBSIDIARIES\n",
            "(In ₹ crore )\n",
            "Condensed Consolidated Balance Sheets as at Note No. March 31, 2024 March 31, 2023\n",
            "ASSETS\n",
            "Non-current assets\n",
            "Property, plant and equipment 2.2 12,370 13,346\n",
            "Right-of-use assets 2.19 6,552 6,882\n",
            "Capital work-in-progress 293 288\n",
            "Goodwill 2.3 7,303 7,248\n",
            "Other intangible assets 1,397 1,749\n",
            "Financial assets\n",
            "Investments 2.4 11,708 12,569\n",
            "Loans 2.5 34 39\n",
            "Other financial assets 2.6 3,105 2,798\n",
            "Deferred tax assets (net) 454 1,245\n",
            "Income tax assets (net) 3,045 6,453\n",
            "Other non-current assets 2.9 2,121 2,318\n",
            "Total non-current assets 48,382 54,935\n",
            "Current assets\n",
            "Financial assets\n",
            "Investments 2.4 12,915 6,909\n",
            "Trade receivables 2.7 30,193 25,424\n",
            "Cash and cash equivalents 2.8 14,786 12,173\n",
            "Loans 2.5 248 289\n",
            "Other financial assets 2.6 12,085 11,604\n",
            "Income tax assets (net) 6,397 6\n",
            "Other current assets 2.9 12,808 14,476\n",
            "Total current assets 89,432 70,881\n",
            "Total assets 137,814 125,816\n",
            "EQUITY AND LIABILITIES\n",
            "Equity\n",
            "Equity share capital 2.11 2,071 2,069\n",
            "Other equity 86,045 73,338\n",
            "Total equity attributable to equity holders of the Company 88,116 75,407\n",
            "Non-controlling interests 345 388\n",
            "Total equity 88,461 75,795\n",
            "Liabilities\n",
            "Non-current liabilities\n",
            "Financial Liabilities\n",
            "Lease liabilities 2.19 6,400 7,057\n",
            "Other financial liabilities 2.12 2,130 2,058\n",
            "Deferred tax liabilities (net) 1,794 1,220\n",
            "Other non-current liabilities 2.13 235 500\n",
            "Total non-current liabilities 10,559 10,835\n",
            "Current liabilities\n",
            "Financial Liabilities\n",
            "Lease liabilities 2.19 1,959 1,242\n",
            "Trade payables 3,956 3,865\n",
            "Other financial liabilities 2.12 16,959 18,558\n",
            "Other current liabilities 2.13 10,539 10,830\n",
            "Provisions 2.14 1,796 1,307\n",
            "Income tax liabilities (net) 3,585 3,384\n",
            "Total current liabilities 38,794 39,186\n",
            "Total equity and liabilities 137,814 125,816\n",
            "The accompanying notes form an integral part of the interim condensed consolidated financial statements\n",
            "As per our report of even date attached\n",
            "for Deloitte Haskins & Sells LLP for and on behalf of the Board of Directors of Infosys Limited\n",
            "Chartered Accountants\n",
            "Firm’s Registration No :\n",
            "117366W/ W-100018\n",
            "Sanjiv V. Pilgaonkar D. Sundaram Salil Parekh Bobby Parikh\n",
            "Partner Lead Independent Director Chief Executive Officer Director\n",
            "Membership No. 039826 and Managing Director\n",
            "Bengaluru Jayesh Sanghrajka A.G.S. Manikantha\n",
            "April 18, 2024 Chief Financial Officer Company Secretary\n",
            "1\n",
            "\n",
            "\n",
            "Formatted Tables:\n",
            "Table 1:\n",
            "Condensed Consolidated Balance Sheets as at: ASSETS | Note No.:  | March 31, 2024:  | March 31, 2023: \n",
            "Condensed Consolidated Balance Sheets as at: Noncurrent assets | Note No.:  | March 31, 2024:  | March 31, 2023: \n",
            "Condensed Consolidated Balance Sheets as at: Property plant and equipment | Note No.: 22 | March 31, 2024: 12370 | March 31, 2023: 13346\n",
            "Condensed Consolidated Balance Sheets as at: Rightofuse assets | Note No.: 219 | March 31, 2024: 6552 | March 31, 2023: 6882\n",
            "Condensed Consolidated Balance Sheets as at: Capital workinprogress | Note No.:  | March 31, 2024: 293 | March 31, 2023: 288\n",
            "Condensed Consolidated Balance Sheets as at: Goodwill | Note No.: 23 | March 31, 2024: 7303 | March 31, 2023: 7248\n",
            "Condensed Consolidated Balance Sheets as at: Other intangible assets | Note No.:  | March 31, 2024: 1397 | March 31, 2023: 1749\n",
            "Condensed Consolidated Balance Sheets as at: Financial assets | Note No.:  | March 31, 2024:  | March 31, 2023: \n",
            "Condensed Consolidated Balance Sheets as at: Investments | Note No.: 24 | March 31, 2024: 11708 | March 31, 2023: 12569\n",
            "Condensed Consolidated Balance Sheets as at: Loans | Note No.: 25 | March 31, 2024: 34 | March 31, 2023: 39\n",
            "Condensed Consolidated Balance Sheets as at: Other financial assets | Note No.: 26 | March 31, 2024: 3105 | March 31, 2023: 2798\n",
            "Condensed Consolidated Balance Sheets as at: Deferred tax assets net | Note No.:  | March 31, 2024: 454 | March 31, 2023: 1245\n",
            "Condensed Consolidated Balance Sheets as at: Income tax assets net | Note No.:  | March 31, 2024: 3045 | March 31, 2023: 6453\n",
            "Condensed Consolidated Balance Sheets as at: Other noncurrent assets | Note No.: 29 | March 31, 2024: 2121 | March 31, 2023: 2318\n",
            "Condensed Consolidated Balance Sheets as at: Total noncurrent assets | Note No.:  | March 31, 2024: 48382 | March 31, 2023: 54935\n",
            "Condensed Consolidated Balance Sheets as at: Current assets | Note No.:  | March 31, 2024:  | March 31, 2023: \n",
            "Condensed Consolidated Balance Sheets as at: Financial assets | Note No.:  | March 31, 2024:  | March 31, 2023: \n",
            "Condensed Consolidated Balance Sheets as at: Investments | Note No.: 24 | March 31, 2024: 12915 | March 31, 2023: 6909\n",
            "Condensed Consolidated Balance Sheets as at: Trade receivables | Note No.: 27 | March 31, 2024: 30193 | March 31, 2023: 25424\n",
            "Condensed Consolidated Balance Sheets as at: Cash and cash equivalents | Note No.: 28 | March 31, 2024: 14786 | March 31, 2023: 12173\n",
            "Condensed Consolidated Balance Sheets as at: Loans | Note No.: 25 | March 31, 2024: 248 | March 31, 2023: 289\n",
            "Condensed Consolidated Balance Sheets as at: Other financial assets | Note No.: 26 | March 31, 2024: 12085 | March 31, 2023: 11604\n",
            "Condensed Consolidated Balance Sheets as at: Income tax assets net | Note No.:  | March 31, 2024: 6397 | March 31, 2023: 6\n",
            "Condensed Consolidated Balance Sheets as at: Other current assets | Note No.: 29 | March 31, 2024: 12808 | March 31, 2023: 14476\n",
            "Condensed Consolidated Balance Sheets as at: Total current assets | Note No.:  | March 31, 2024: 89432 | March 31, 2023: 70881\n",
            "Condensed Consolidated Balance Sheets as at: Total assets | Note No.:  | March 31, 2024: 137814 | March 31, 2023: 125816\n",
            "Condensed Consolidated Balance Sheets as at: EQUITY AND LIABILITIES | Note No.:  | March 31, 2024:  | March 31, 2023: \n",
            "Condensed Consolidated Balance Sheets as at: Equity | Note No.:  | March 31, 2024:  | March 31, 2023: \n",
            "Condensed Consolidated Balance Sheets as at: Equity share capital | Note No.: 211 | March 31, 2024: 2071 | March 31, 2023: 2069\n",
            "Condensed Consolidated Balance Sheets as at: Other equity | Note No.:  | March 31, 2024: 86045 | March 31, 2023: 73338\n",
            "Condensed Consolidated Balance Sheets as at: Total equity attributable to equity holders of the Company | Note No.:  | March 31, 2024: 88116 | March 31, 2023: 75407\n",
            "Condensed Consolidated Balance Sheets as at: Noncontrolling interests | Note No.:  | March 31, 2024: 345 | March 31, 2023: 388\n",
            "Condensed Consolidated Balance Sheets as at: Total equity | Note No.:  | March 31, 2024: 88461 | March 31, 2023: 75795\n",
            "Condensed Consolidated Balance Sheets as at: Liabilities | Note No.:  | March 31, 2024:  | March 31, 2023: \n",
            "Condensed Consolidated Balance Sheets as at: Noncurrent liabilities | Note No.:  | March 31, 2024:  | March 31, 2023: \n",
            "Condensed Consolidated Balance Sheets as at: Financial Liabilities | Note No.:  | March 31, 2024:  | March 31, 2023: \n",
            "Condensed Consolidated Balance Sheets as at: Lease liabilities | Note No.: 219 | March 31, 2024: 6400 | March 31, 2023: 7057\n",
            "Condensed Consolidated Balance Sheets as at: Other financial liabilities | Note No.: 212 | March 31, 2024: 2130 | March 31, 2023: 2058\n",
            "Condensed Consolidated Balance Sheets as at: Deferred tax liabilities net | Note No.:  | March 31, 2024: 1794 | March 31, 2023: 1220\n",
            "Condensed Consolidated Balance Sheets as at: Other noncurrent liabilities | Note No.: 213 | March 31, 2024: 235 | March 31, 2023: 500\n",
            "Condensed Consolidated Balance Sheets as at: Total noncurrent liabilities | Note No.:  | March 31, 2024: 10559 | March 31, 2023: 10835\n",
            "Condensed Consolidated Balance Sheets as at: Current liabilities | Note No.:  | March 31, 2024:  | March 31, 2023: \n",
            "Condensed Consolidated Balance Sheets as at: Financial Liabilities | Note No.:  | March 31, 2024:  | March 31, 2023: \n",
            "Condensed Consolidated Balance Sheets as at: Lease liabilities | Note No.: 219 | March 31, 2024: 1959 | March 31, 2023: 1242\n",
            "Condensed Consolidated Balance Sheets as at: Trade payables | Note No.:  | March 31, 2024: 3956 | March 31, 2023: 3865\n",
            "Condensed Consolidated Balance Sheets as at: Other financial liabilities | Note No.: 212 | March 31, 2024: 16959 | March 31, 2023: 18558\n",
            "Condensed Consolidated Balance Sheets as at: Other current liabilities | Note No.: 213 | March 31, 2024: 10539 | March 31, 2023: 10830\n",
            "Condensed Consolidated Balance Sheets as at: Provisions | Note No.: 214 | March 31, 2024: 1796 | March 31, 2023: 1307\n",
            "Condensed Consolidated Balance Sheets as at: Income tax liabilities net | Note No.:  | March 31, 2024: 3585 | March 31, 2023: 3384\n",
            "Condensed Consolidated Balance Sheets as at: Total current liabilities | Note No.:  | March 31, 2024: 38794 | March 31, 2023: 39186\n",
            "Condensed Consolidated Balance Sheets as at: Total equity and liabilities | Note No.:  | March 31, 2024: 137814 | March 31, 2023: 125816\n",
            "\n"
          ]
        }
      ],
      "source": [
        "import pdfplumber\n",
        "from tabula import read_pdf\n",
        "import pandas as pd\n",
        "import string\n",
        "import logging\n",
        "logging.getLogger(\"tabula\").setLevel(logging.ERROR)\n",
        "\n",
        "\n",
        "\n",
        "# Extract plain text using pdfplumber\n",
        "def extract_text_from_pdf(pdf_path):\n",
        "    text_data = []\n",
        "    with pdfplumber.open(pdf_path) as pdf:\n",
        "        for page in pdf.pages[1:]:\n",
        "            text = page.extract_text()\n",
        "            if text:\n",
        "                text_data.append(text)\n",
        "    return text_data\n",
        "\n",
        "\n",
        "# Extract tables using Tabula with custom formatting\n",
        "def extract_tables_with_tabula(pdf_path):\n",
        "    tables = read_pdf(pdf_path, pages=\"all\", multiple_tables=True, pandas_options={\"header\": 0})\n",
        "    formatted_tables = []\n",
        "\n",
        "    for table in tables:\n",
        "        if len(table) <= 2:\n",
        "            continue\n",
        "\n",
        "        # Replace NaN with empty strings\n",
        "        table = table.fillna(\"\")\n",
        "\n",
        "        # Remove punctuation from cell values\n",
        "        table = table.map(lambda x: str(x).translate(str.maketrans(\"\", \"\", string.punctuation)))\n",
        "\n",
        "        # Join columns and rows into key-value pairs\n",
        "        formatted_table = []\n",
        "        headers = table.columns\n",
        "        for _, row in table.iterrows():\n",
        "            row_data = \" | \".join(\n",
        "                f\"{headers[col_index]}: {str(cell)}\" for col_index, cell in enumerate(row)\n",
        "            )\n",
        "            formatted_table.append(row_data)\n",
        "\n",
        "        formatted_tables.append(\"\\n\".join(formatted_table))\n",
        "\n",
        "    return formatted_tables\n",
        "\n",
        "\n",
        "# Main pipeline to extract both text and formatted tables\n",
        "def process_pdf(pdf_path):\n",
        "    text_data = extract_text_from_pdf(pdf_path)\n",
        "\n",
        "    formatted_tables = extract_tables_with_tabula(pdf_path)\n",
        "\n",
        "    return text_data, formatted_tables\n",
        "\n",
        "\n",
        "\n",
        "pdf_path = \"Sample Financial Statement.pdf\"\n",
        "\n",
        "# Extract text and tables\n",
        "text_output, table_output = process_pdf(pdf_path)\n",
        "\n",
        "# Print the extracted text\n",
        "print(\"Extracted Text:\")\n",
        "for page_num, page_text in enumerate(text_output, start=1):\n",
        "    print(f\"Page {page_num}:\\n{page_text}\\n\")\n",
        "    break\n",
        "\n",
        "# Print the formatted tables\n",
        "print(\"\\nFormatted Tables:\")\n",
        "for table_num, table in enumerate(table_output, start=1):\n",
        "    print(f\"Table {table_num}:\\n{table}\\n\")\n",
        "    break"
      ]
    },
    {
      "cell_type": "markdown",
      "source": [
        "## **Preprocessing Data**"
      ],
      "metadata": {
        "id": "iH3A_3AYnisL"
      }
    },
    {
      "cell_type": "code",
      "execution_count": 7,
      "metadata": {
        "colab": {
          "base_uri": "https://localhost:8080/"
        },
        "collapsed": true,
        "id": "veP1ATDlHwDO",
        "outputId": "6fac2ece-cde3-4001-896e-483f4f0e9b61"
      },
      "outputs": [
        {
          "output_type": "stream",
          "name": "stdout",
          "text": [
            "Final Combined Output:\n",
            "Page 1:\n",
            "\n",
            "INFOSYS LIMITED AND SUBSIDIARIES (In INR cr ) Condensed Consolidated Balance Sheets as at Note No\n",
            "March 31, 2024 March 31, 2023 ASSETS Non-current assets Property, plant and equipment 2.2 12,370 13,346 Right-of-use assets 2.19 6,552 6,882 Capital work-in-progress 293 288 Goodwill 2.3 7,303 7,248 Other intangible assets 1,397 1,749 Financial assets Investments 2.4 11,708 12,569 Loans 2.5 34 39 Other financial assets 2.6 3,105 2,798 Deferred tax assets (net) 454 1,245 Income tax assets (net) 3,045 6,453 Other non-current assets 2.9 2,121 2,318 Total non-current assets 48,382 54,935 Current assets Financial assets Investments 2.4 12,915 6,909 Trade receivables 2.7 30,193 25,424 Cash and cash equivalents 2.8 14,786 12,173 Loans 2.5 248 289 Other financial assets 2.6 12,085 11,604 Income tax assets (net) 6,397 6 Other current assets 2.9 12,808 14,476 Total current assets 89,432 70,881 Total assets 137,814 125,816 EQUITY AND LIABILITIES Equity Equity share capital 2.11 2,071 2,069 Other equity 86,045 73,338 Total equity attributable to equity holders of the Company 88,116 75,407 Non-controlling interests 345 388 Total equity 88,461 75,795 Liabilities Non-current liabilities Financial Liabilities Lease liabilities 2.19 6,400 7,057 Other financial liabilities 2.12 2,130 2,058 Deferred tax liabilities (net) 1,794 1,220 Other non-current liabilities 2.13 235 500 Total non-current liabilities 10,559 10,835 Current liabilities Financial Liabilities Lease liabilities 2.19 1,959 1,242 Trade payables 3,956 3,865 Other financial liabilities 2.12 16,959 18,558 Other current liabilities 2.13 10,539 10,830 Provisions 2.14 1,796 1,307 Income tax liabilities (net) 3,585 3,384 Total current liabilities 38,794 39,186 Total equity and liabilities 137,814 125,816 The accompanying notes form an integral part of the interim condensed consolidated financial statements As per our report of even date attached for Deloitte Haskins & Sells LLP for and on behalf of the Board of Directors of Infosys Limited Chartered Accountants Firm’s Registration No : 117366W/ W-100018 Sanjiv V\n",
            "Pilgaonkar D\n",
            "Sundaram Salil Parekh Bobby Parikh Partner Lead Independent Director Chief Executive Officer Director Membership No\n",
            "039826 and Managing Director Bengaluru Jayesh Sanghrajka A.G.S\n",
            "Manikantha April 18, 2024 Chief Financial Officer Company Secretary 1\n",
            "\n",
            "Tables:\n",
            "\n",
            "Condensed Consolidated Balance Sheets as at: ASSETS | Note No.:  | March 31, 2024:  | March 31, 2023: \n",
            "Condensed Consolidated Balance Sheets as at: Noncurrent assets | Note No.:  | March 31, 2024:  | March 31, 2023: \n",
            "Condensed Consolidated Balance Sheets as at: Property plant and equipment | Note No.: 22 | March 31, 2024: 12370 | March 31, 2023: 13346\n",
            "Condensed Consolidated Balance Sheets as at: Rightofuse assets | Note No.: 219 | March 31, 2024: 6552 | March 31, 2023: 6882\n",
            "Condensed Consolidated Balance Sheets as at: Capital workinprogress | Note No.:  | March 31, 2024: 293 | March 31, 2023: 288\n",
            "Condensed Consolidated Balance Sheets as at: Goodwill | Note No.: 23 | March 31, 2024: 7303 | March 31, 2023: 7248\n",
            "Condensed Consolidated Balance Sheets as at: Other intangible assets | Note No.:  | March 31, 2024: 1397 | March 31, 2023: 1749\n",
            "Condensed Consolidated Balance Sheets as at: Financial assets | Note No.:  | March 31, 2024:  | March 31, 2023: \n",
            "Condensed Consolidated Balance Sheets as at: Investments | Note No.: 24 | March 31, 2024: 11708 | March 31, 2023: 12569\n",
            "Condensed Consolidated Balance Sheets as at: Loans | Note No.: 25 | March 31, 2024: 34 | March 31, 2023: 39\n",
            "Condensed Consolidated Balance Sheets as at: Other financial assets | Note No.: 26 | March 31, 2024: 3105 | March 31, 2023: 2798\n",
            "Condensed Consolidated Balance Sheets as at: Deferred tax assets net | Note No.:  | March 31, 2024: 454 | March 31, 2023: 1245\n",
            "Condensed Consolidated Balance Sheets as at: Income tax assets net | Note No.:  | March 31, 2024: 3045 | March 31, 2023: 6453\n",
            "Condensed Consolidated Balance Sheets as at: Other noncurrent assets | Note No.: 29 | March 31, 2024: 2121 | March 31, 2023: 2318\n",
            "Condensed Consolidated Balance Sheets as at: Total noncurrent assets | Note No.:  | March 31, 2024: 48382 | March 31, 2023: 54935\n",
            "Condensed Consolidated Balance Sheets as at: Current assets | Note No.:  | March 31, 2024:  | March 31, 2023: \n",
            "Condensed Consolidated Balance Sheets as at: Financial assets | Note No.:  | March 31, 2024:  | March 31, 2023: \n",
            "Condensed Consolidated Balance Sheets as at: Investments | Note No.: 24 | March 31, 2024: 12915 | March 31, 2023: 6909\n",
            "Condensed Consolidated Balance Sheets as at: Trade receivables | Note No.: 27 | March 31, 2024: 30193 | March 31, 2023: 25424\n",
            "Condensed Consolidated Balance Sheets as at: Cash and cash equivalents | Note No.: 28 | March 31, 2024: 14786 | March 31, 2023: 12173\n",
            "Condensed Consolidated Balance Sheets as at: Loans | Note No.: 25 | March 31, 2024: 248 | March 31, 2023: 289\n",
            "Condensed Consolidated Balance Sheets as at: Other financial assets | Note No.: 26 | March 31, 2024: 12085 | March 31, 2023: 11604\n",
            "Condensed Consolidated Balance Sheets as at: Income tax assets net | Note No.:  | March 31, 2024: 6397 | March 31, 2023: 6\n",
            "Condensed Consolidated Balance Sheets as at: Other current assets | Note No.: 29 | March 31, 2024: 12808 | March 31, 2023: 14476\n",
            "Condensed Consolidated Balance Sheets as at: Total current assets | Note No.:  | March 31, 2024: 89432 | March 31, 2023: 70881\n",
            "Condensed Consolidated Balance Sheets as at: Total assets | Note No.:  | March 31, 2024: 137814 | March 31, 2023: 125816\n",
            "Condensed Consolidated Balance Sheets as at: EQUITY AND LIABILITIES | Note No.:  | March 31, 2024:  | March 31, 2023: \n",
            "Condensed Consolidated Balance Sheets as at: Equity | Note No.:  | March 31, 2024:  | March 31, 2023: \n",
            "Condensed Consolidated Balance Sheets as at: Equity share capital | Note No.: 211 | March 31, 2024: 2071 | March 31, 2023: 2069\n",
            "Condensed Consolidated Balance Sheets as at: Other equity | Note No.:  | March 31, 2024: 86045 | March 31, 2023: 73338\n",
            "Condensed Consolidated Balance Sheets as at: Total equity attributable to equity holders of the Company | Note No.:  | March 31, 2024: 88116 | March 31, 2023: 75407\n",
            "Condensed Consolidated Balance Sheets as at: Noncontrolling interests | Note No.:  | March 31, 2024: 345 | March 31, 2023: 388\n",
            "Condensed Consolidated Balance Sheets as at: Total equity | Note No.:  | March 31, 2024: 88461 | March 31, 2023: 75795\n",
            "Condensed Consolidated Balance Sheets as at: Liabilities | Note No.:  | March 31, 2024:  | March 31, 2023: \n",
            "Condensed Consolidated Balance Sheets as at: Noncurrent liabilities | Note No.:  | March 31, 2024:  | March 31, 2023: \n",
            "Condensed Consolidated Balance Sheets as at: Financial Liabilities | Note No.:  | March 31, 2024:  | March 31, 2023: \n",
            "Condensed Consolidated Balance Sheets as at: Lease liabilities | Note No.: 219 | March 31, 2024: 6400 | March 31, 2023: 7057\n",
            "Condensed Consolidated Balance Sheets as at: Other financial liabilities | Note No.: 212 | March 31, 2024: 2130 | March 31, 2023: 2058\n",
            "Condensed Consolidated Balance Sheets as at: Deferred tax liabilities net | Note No.:  | March 31, 2024: 1794 | March 31, 2023: 1220\n",
            "Condensed Consolidated Balance Sheets as at: Other noncurrent liabilities | Note No.: 213 | March 31, 2024: 235 | March 31, 2023: 500\n",
            "Condensed Consolidated Balance Sheets as at: Total noncurrent liabilities | Note No.:  | March 31, 2024: 10559 | March 31, 2023: 10835\n",
            "Condensed Consolidated Balance Sheets as at: Current liabilities | Note No.:  | March 31, 2024:  | March 31, 2023: \n",
            "Condensed Consolidated Balance Sheets as at: Financial Liabilities | Note No.:  | March 31, 2024:  | March 31, 2023: \n",
            "Condensed Consolidated Balance Sheets as at: Lease liabilities | Note No.: 219 | March 31, 2024: 1959 | March 31, 2023: 1242\n",
            "Condensed Consolidated Balance Sheets as at: Trade payables | Note No.:  | March 31, 2024: 3956 | March 31, 2023: 3865\n",
            "Condensed Consolidated Balance Sheets as at: Other financial liabilities | Note No.: 212 | March 31, 2024: 16959 | March 31, 2023: 18558\n",
            "Condensed Consolidated Balance Sheets as at: Other current liabilities | Note No.: 213 | March 31, 2024: 10539 | March 31, 2023: 10830\n",
            "Condensed Consolidated Balance Sheets as at: Provisions | Note No.: 214 | March 31, 2024: 1796 | March 31, 2023: 1307\n",
            "Condensed Consolidated Balance Sheets as at: Income tax liabilities net | Note No.:  | March 31, 2024: 3585 | March 31, 2023: 3384\n",
            "Condensed Consolidated Balance Sheets as at: Total current liabilities | Note No.:  | March 31, 2024: 38794 | March 31, 2023: 39186\n",
            "Condensed Consolidated Balance Sheets as at: Total equity and liabilities | Note No.:  | March 31, 2024: 137814 | March 31, 2023: 125816\n"
          ]
        }
      ],
      "source": [
        "import re\n",
        "from typing import List\n",
        "\n",
        "# Preprocess text data to clean, normalize and join (text, table)\n",
        "def improved_preprocess_text(text):\n",
        "    # Step 1: Normalize spaces\n",
        "    text = re.sub(r'\\s+', ' ', text)\n",
        "    text = text.strip()\n",
        "\n",
        "    # Step 2: Normalize financial terms\n",
        "    text = text.replace(\"₹\", \"INR\")\n",
        "    text = text.replace(\"crore\", \"cr\")\n",
        "    text = text.replace(\"lakh\", \"lac\")\n",
        "\n",
        "    # Step 3: Retain table-like formatting by preserving line breaks\n",
        "    lines = text.split(\". \")\n",
        "    cleaned_lines = []\n",
        "    for line in lines:\n",
        "        if re.search(r'\\d', line):\n",
        "            cleaned_lines.append(line.strip())\n",
        "        else:\n",
        "            cleaned_lines.append(line.strip())\n",
        "\n",
        "    return \"\\n\".join(cleaned_lines)\n",
        "\n",
        "# Combine preprocessed text and table data\n",
        "def combine_text_and_table_data(preprocessed_text: List[str], formatted_tables: List[str]):\n",
        "    combined_output = []\n",
        "\n",
        "    for page_num, page_text in enumerate(preprocessed_text, start=1):\n",
        "        combined_output.append(f\"Page {page_num}:\")\n",
        "        combined_output.append(page_text)\n",
        "\n",
        "        # If tables exist for this page, append them\n",
        "        if page_num <= len(formatted_tables):\n",
        "            combined_output.append(\"Tables:\")\n",
        "            combined_output.append(formatted_tables[page_num - 1])\n",
        "\n",
        "    return \"\\n\\n\".join(combined_output)\n",
        "\n",
        "def preprocess_data(text_output, table_output):\n",
        "    # Preprocess the text data\n",
        "    preprocessed_text = [improved_preprocess_text(page_text) for page_text in text_output]\n",
        "\n",
        "    # Combine preprocessed text and table data\n",
        "    final_output = combine_text_and_table_data(preprocessed_text, table_output)\n",
        "\n",
        "    pages = final_output.split(\"\\n\\nPage \")\n",
        "\n",
        "    # Check \"Page X:\" is preserved\n",
        "    pages = [f\"Page {page}\" if not page.startswith(\"Page\") else page for page in pages]\n",
        "    return pages\n",
        "\n",
        "pages = preprocess_data(text_output, table_output)\n",
        "# Print the final combined output\n",
        "print(\"Final Combined Output:\")\n",
        "print(pages[0])"
      ]
    },
    {
      "cell_type": "markdown",
      "source": [
        "## **Split the Data in Smaller Chunks**"
      ],
      "metadata": {
        "id": "lQnQnjb9ns7i"
      }
    },
    {
      "cell_type": "code",
      "execution_count": 9,
      "metadata": {
        "colab": {
          "base_uri": "https://localhost:8080/"
        },
        "collapsed": true,
        "id": "nc997o6zGGKB",
        "outputId": "62b32c75-0f87-44b9-cce9-a1bff7990559"
      },
      "outputs": [
        {
          "output_type": "stream",
          "name": "stdout",
          "text": [
            "Chunks from Page 2:\n",
            "['Page 1:\\n\\nINFOSYS LIMITED AND SUBSIDIARIES (In INR cr ) Condensed Consolidated Balance Sheets as at Note No\\nMarch 31, 2024 March 31, 2023 ASSETS Non-current assets Property, plant and equipment 2.2 12,370 13,346 Right-of-use assets 2.19 6,552 6,882 Capital work-in-progress 293 288 Goodwill 2.3 7,303 7,248 Other intangible assets 1,397 1,749 Financial assets Investments 2.4 11,708 12,569 Loans 2.5 34 39 Other financial assets 2.6 3,105 2,798 Deferred tax assets (net) 454 1,245 Income tax assets (net) 3,045 6,453 Other non-current assets 2.9 2,121 2,318 Total non-current assets 48,382 54,935 Current assets Financial assets Investments 2.4 12,915 6,909 Trade receivables 2.7 30,193 25,424 Cash and cash equivalents 2.8 14,786 12,173 Loans 2.5 248 289 Other financial assets 2.6 12,085 11,604 Income tax assets (net) 6,397 6 Other current assets 2.9 12,808 14,476 Total current assets 89,432 70,881 Total assets 137,814 125,816 EQUITY AND LIABILITIES Equity Equity share capital 2.11 2,071 2,069 Other equity 86,045 73,338 Total equity attributable to equity holders of the Company 88,116 75,407 Non-controlling interests 345 388 Total equity 88,461 75,795 Liabilities Non-current liabilities Financial Liabilities Lease liabilities 2.19 6,400 7,057 Other financial liabilities 2.12 2,130 2,058 Deferred tax liabilities (net) 1,794 1,220 Other non-current liabilities 2.13 235 500 Total non-current liabilities 10,559 10,835 Current liabilities Financial Liabilities Lease liabilities 2.19 1,959 1,242 Trade payables 3,956 3,865 Other financial liabilities 2.12 16,959 18,558 Other current liabilities 2.13 10,539 10,830 Provisions 2.14 1,796 1,307 Income tax liabilities (net) 3,585 3,384 Total current liabilities 38,794 39,186 Total equity and liabilities 137,814 125,816 The accompanying notes form an integral part of the interim condensed consolidated financial statements As per our report of even date attached for Deloitte Haskins & Sells LLP for and on behalf of the Board of Directors of Infosys Limited Chartered Accountants Firm’s Registration No : 117366W/ W-100018 Sanjiv V\\nPilgaonkar D\\nSundaram Salil Parekh Bobby Parikh Partner Lead Independent Director Chief Executive Officer Director Membership No\\n039826 and Managing Director Bengaluru Jayesh Sanghrajka A.G.S\\nManikantha April 18, 2024 Chief Financial Officer Company Secretary 1\\n\\nTables:', 'Tables:\\n\\nCondensed Consolidated Balance Sheets as at: ASSETS | Note No.:  | March 31, 2024:  | March 31, 2023: \\nCondensed Consolidated Balance Sheets as at: Noncurrent assets | Note No.:  | March 31, 2024:  | March 31, 2023: \\nCondensed Consolidated Balance Sheets as at: Property plant and equipment | Note No.: 22 | March 31, 2024: 12370 | March 31, 2023: 13346\\nCondensed Consolidated Balance Sheets as at: Rightofuse assets | Note No.: 219 | March 31, 2024: 6552 | March 31, 2023: 6882\\nCondensed Consolidated Balance Sheets as at: Capital workinprogress | Note No.:  | March 31, 2024: 293 | March 31, 2023: 288\\nCondensed Consolidated Balance Sheets as at: Goodwill | Note No.: 23 | March 31, 2024: 7303 | March 31, 2023: 7248\\nCondensed Consolidated Balance Sheets as at: Other intangible assets | Note No.:  | March 31, 2024: 1397 | March 31, 2023: 1749\\nCondensed Consolidated Balance Sheets as at: Financial assets | Note No.:  | March 31, 2024:  | March 31, 2023: \\nCondensed Consolidated Balance Sheets as at: Investments | Note No.: 24 | March 31, 2024: 11708 | March 31, 2023: 12569\\nCondensed Consolidated Balance Sheets as at: Loans | Note No.: 25 | March 31, 2024: 34 | March 31, 2023: 39\\nCondensed Consolidated Balance Sheets as at: Other financial assets | Note No.: 26 | March 31, 2024: 3105 | March 31, 2023: 2798\\nCondensed Consolidated Balance Sheets as at: Deferred tax assets net | Note No.:  | March 31, 2024: 454 | March 31, 2023: 1245\\nCondensed Consolidated Balance Sheets as at: Income tax assets net | Note No.:  | March 31, 2024: 3045 | March 31, 2023: 6453\\nCondensed Consolidated Balance Sheets as at: Other noncurrent assets | Note No.: 29 | March 31, 2024: 2121 | March 31, 2023: 2318\\nCondensed Consolidated Balance Sheets as at: Total noncurrent assets | Note No.:  | March 31, 2024: 48382 | March 31, 2023: 54935\\nCondensed Consolidated Balance Sheets as at: Current assets | Note No.:  | March 31, 2024:  | March 31, 2023: \\nCondensed Consolidated Balance Sheets as at: Financial assets | Note No.:  | March 31, 2024:  | March 31, 2023: \\nCondensed Consolidated Balance Sheets as at: Investments | Note No.: 24 | March 31, 2024: 12915 | March 31, 2023: 6909\\nCondensed Consolidated Balance Sheets as at: Trade receivables | Note No.: 27 | March 31, 2024: 30193 | March 31, 2023: 25424\\nCondensed Consolidated Balance Sheets as at: Cash and cash equivalents | Note No.: 28 | March 31, 2024: 14786 | March 31, 2023: 12173\\nCondensed Consolidated Balance Sheets as at: Loans | Note No.: 25 | March 31, 2024: 248 | March 31, 2023: 289\\nCondensed Consolidated Balance Sheets as at: Other financial assets | Note No.: 26 | March 31, 2024: 12085 | March 31, 2023: 11604\\nCondensed Consolidated Balance Sheets as at: Income tax assets net | Note No.:  | March 31, 2024: 6397 | March 31, 2023: 6\\nCondensed Consolidated Balance Sheets as at: Other current assets | Note No.: 29 | March 31, 2024: 12808 | March 31, 2023: 14476\\nCondensed Consolidated Balance Sheets as at: Total current assets | Note No.:  | March 31, 2024: 89432 | March 31, 2023: 70881\\nCondensed Consolidated Balance Sheets as at: Total assets | Note No.:  | March 31, 2024: 137814 | March 31, 2023: 125816\\nCondensed Consolidated Balance Sheets as at: EQUITY AND LIABILITIES | Note No.:  | March 31, 2024:  | March 31, 2023: \\nCondensed Consolidated Balance Sheets as at: Equity | Note No.:  | March 31, 2024:  | March 31, 2023: \\nCondensed Consolidated Balance Sheets as at: Equity share capital | Note No.: 211 | March 31, 2024: 2071 | March 31, 2023: 2069\\nCondensed Consolidated Balance Sheets as at: Other equity | Note No.:  | March 31, 2024: 86045 | March 31, 2023: 73338\\nCondensed Consolidated Balance Sheets as at: Total equity attributable to equity holders of the Company | Note No.:  | March 31, 2024: 88116 | March 31, 2023: 75407\\nCondensed Consolidated Balance Sheets as at: Noncontrolling interests | Note No.:  | March 31, 2024: 345 | March 31, 2023: 388\\nCondensed Consolidated Balance Sheets as at: Total equity | Note No.:  | March 31, 2024: 88461 | March 31, 2023: 75795\\nCondensed Consolidated Balance Sheets as at: Liabilities | Note No.:  | March 31, 2024:  | March 31, 2023: \\nCondensed Consolidated Balance Sheets as at: Noncurrent liabilities | Note No.:  | March 31, 2024:  | March 31, 2023: \\nCondensed Consolidated Balance Sheets as at: Financial Liabilities | Note No.:  | March 31, 2024:  | March 31, 2023: \\nCondensed Consolidated Balance Sheets as at: Lease liabilities | Note No.: 219 | March 31, 2024: 6400 | March 31, 2023: 7057\\nCondensed Consolidated Balance Sheets as at: Other financial liabilities | Note No.: 212 | March 31, 2024: 2130 | March 31, 2023: 2058\\nCondensed Consolidated Balance Sheets as at: Deferred tax liabilities net | Note No.:  | March 31, 2024: 1794 | March 31, 2023: 1220\\nCondensed Consolidated Balance Sheets as at: Other noncurrent liabilities | Note No.: 213 | March 31, 2024: 235 | March 31, 2023: 500\\nCondensed Consolidated Balance Sheets as at: Total noncurrent liabilities | Note No.:  | March 31, 2024: 10559 | March 31, 2023: 10835\\nCondensed Consolidated Balance Sheets as at: Current liabilities | Note No.:  | March 31, 2024:  | March 31, 2023: \\nCondensed Consolidated Balance Sheets as at: Financial Liabilities | Note No.:  | March 31, 2024:  | March 31, 2023: \\nCondensed Consolidated Balance Sheets as at: Lease liabilities | Note No.: 219 | March 31, 2024: 1959 | March 31, 2023: 1242\\nCondensed Consolidated Balance Sheets as at: Trade payables | Note No.:  | March 31, 2024: 3956 | March 31, 2023: 3865\\nCondensed Consolidated Balance Sheets as at: Other financial liabilities | Note No.: 212 | March 31, 2024: 16959 | March 31, 2023: 18558\\nCondensed Consolidated Balance Sheets as at: Other current liabilities | Note No.: 213 | March 31, 2024: 10539 | March 31, 2023: 10830\\nCondensed Consolidated Balance Sheets as at: Provisions | Note No.: 214 | March 31, 2024: 1796 | March 31, 2023: 1307\\nCondensed Consolidated Balance Sheets as at: Income tax liabilities net | Note No.:  | March 31, 2024: 3585 | March 31, 2023: 3384\\nCondensed Consolidated Balance Sheets as at: Total current liabilities | Note No.:  | March 31, 2024: 38794 | March 31, 2023: 39186\\nCondensed Consolidated Balance Sheets as at: Total equity and liabilities | Note No.:  | March 31, 2024: 137814 | March 31, 2023: 125816']\n"
          ]
        }
      ],
      "source": [
        "from langchain.text_splitter import RecursiveCharacterTextSplitter\n",
        "\n",
        "def chunk_with_langchain(text, chunk_size=8000, chunk_overlap=200):\n",
        "    text_splitter = RecursiveCharacterTextSplitter(\n",
        "        chunk_size=chunk_size,\n",
        "        chunk_overlap=chunk_overlap,\n",
        "        length_function=len\n",
        "    )\n",
        "\n",
        "    chunks = text_splitter.split_text(text)\n",
        "\n",
        "    return chunks\n",
        "\n",
        "chunked_data = [chunk_with_langchain(page) for page in pages]\n",
        "print(f\"Chunks from Page 2:\\n{chunked_data[0]}\")"
      ]
    },
    {
      "cell_type": "markdown",
      "source": [
        "## **Embedding Data using Sentence Transformer**"
      ],
      "metadata": {
        "id": "Wv1sQnZin6Vf"
      }
    },
    {
      "cell_type": "code",
      "execution_count": null,
      "metadata": {
        "collapsed": true,
        "id": "4l7_ccEXJM1d"
      },
      "outputs": [],
      "source": [
        "from sentence_transformers import SentenceTransformer\n",
        "\n",
        "embed_model = SentenceTransformer('all-MiniLM-L6-v2')"
      ]
    },
    {
      "cell_type": "code",
      "execution_count": null,
      "metadata": {
        "collapsed": true,
        "id": "TNpBZ5mTL9zm"
      },
      "outputs": [],
      "source": [
        "def generate_embeddings(chunked_data):\n",
        "    embeddings = []\n",
        "    for page_chunks in chunked_data:\n",
        "        page_embeddings = embed_model.encode(page_chunks, convert_to_tensor=True)\n",
        "        embeddings.append(page_embeddings)\n",
        "    return embeddings\n",
        "\n",
        "\n",
        "embeddings = generate_embeddings(chunked_data)\n",
        "\n",
        "print(f\"Embeddings for Page 2: {embeddings[0]}\")"
      ]
    },
    {
      "cell_type": "markdown",
      "source": [
        "## **Store the Data in Vector Database**"
      ],
      "metadata": {
        "id": "yxL40405oGuZ"
      }
    },
    {
      "cell_type": "code",
      "execution_count": 17,
      "metadata": {
        "id": "gI1wq-y1OJLy"
      },
      "outputs": [],
      "source": [
        "# Create Pinecone index\n",
        "index_name = 'qa-bot'\n",
        "\n",
        "# Initialize Pinecone\n",
        "from pinecone import Pinecone, ServerlessSpec\n",
        "pc = Pinecone(Pine_API_KEY, environment='us-west1-gcp')\n",
        "\n",
        "# Check if index exists\n",
        "pc.create_index(\n",
        "    name=index_name,\n",
        "    dimension=embeddings[0].shape[1],\n",
        "    metric=\"cosine\",\n",
        "    spec=ServerlessSpec(\n",
        "        cloud=\"aws\",\n",
        "        region=\"us-east-1\"\n",
        "    ) )\n",
        "index = pc.Index(index_name)"
      ]
    },
    {
      "cell_type": "code",
      "execution_count": 18,
      "metadata": {
        "colab": {
          "base_uri": "https://localhost:8080/"
        },
        "collapsed": true,
        "id": "ZsgFQxnR2eVI",
        "outputId": "55da3650-f3f1-4eed-c01d-914b287a7b69"
      },
      "outputs": [
        {
          "output_type": "stream",
          "name": "stdout",
          "text": [
            "Embeddings stored in Pinecone!\n"
          ]
        }
      ],
      "source": [
        "# Upsert embeddings into Pinecone\n",
        "def upsert_embeddings(embeddings, chunked_data):\n",
        "    for page_num, page_embeddings in enumerate(embeddings):\n",
        "        for chunk_num, embedding in enumerate(page_embeddings):\n",
        "            metadata = {\n",
        "                \"page\": page_num + 1,\n",
        "                \"chunk\": chunk_num,\n",
        "                \"text\": chunked_data[page_num][chunk_num],\n",
        "            }\n",
        "            # Generate unique ID for each embedding\n",
        "            unique_id = f\"page-{page_num+1}-chunk-{chunk_num}\"\n",
        "            embedding_list = embedding.tolist() if hasattr(embedding, 'tolist') else list(embedding)\n",
        "            index.upsert([(unique_id, embedding_list, metadata)])\n",
        "\n",
        "# Upsert data\n",
        "upsert_embeddings(embeddings, chunked_data)\n",
        "\n",
        "print(\"Embeddings stored in Pinecone!\")"
      ]
    },
    {
      "cell_type": "markdown",
      "source": [
        "## **RAG Pipeline**"
      ],
      "metadata": {
        "id": "4NyPSliwoTJR"
      }
    },
    {
      "cell_type": "code",
      "execution_count": 19,
      "metadata": {
        "id": "nAHfJuFaGLhM"
      },
      "outputs": [],
      "source": [
        "retrieval_model = SentenceTransformer('all-MiniLM-L6-v2')"
      ]
    },
    {
      "cell_type": "code",
      "execution_count": 20,
      "metadata": {
        "colab": {
          "base_uri": "https://localhost:8080/"
        },
        "collapsed": true,
        "id": "c5Ys7mhPGZq-",
        "outputId": "c290096e-f105-4dfa-8698-62be7711025d"
      },
      "outputs": [
        {
          "output_type": "stream",
          "name": "stdout",
          "text": [
            "Retrieved Contexts:\n",
            "Page 39:\n",
            "\n",
            "X20AO 2.24 FUNCTION WISE CLASSIFICATION OF CONDENSED CONSOLIDATED STATEMENT OF PROFIT AND LOSS (In INR cr) Particulars Note No\n",
            "Three months ended March 31, Year ended March 31, 2024 2023 2024 2023 Revenue from operations 2.16 37,923 37,441 153,670 146,767 Cost of Sales 26,748 26,011 107,413 102,353 Gross profit 11,175 11,430 46,257 44,414 Operating expenses Selling and marketing expenses 1,735 1,659 6,973 6,249 General and administration expenses 1,819 1,894 7,537 7,260 Total operating expenses 3,554 3,553 14,510 13,509 Operating profit 7,621 7,877 31,747 30,905 Other income, net 2.17 2,729 671 4,711 2,701 Finance cost 110 82 470 284 Profit before tax 10,240 8,466 35,988 33,322 Tax expense: Current tax 2.15 1,173 2,260 8,390 9,287 Deferred tax 2.15 1,092 72 1,350 (73) Profit for the period 7,975 6,134 26,248 24,108 Other comprehensive income Items that will not be reclassified subsequently to profit or loss Remeasurement of the net defined benefit liability/asset, net 26 25 120 8 Equity instruments through other comprehensive income, net (12) (15) 19 (7) 14 10 139 1 Items that will be reclassified subsequently to profit or loss Fair value changes on derivatives designated as cash flow hedge, net 28 36 11 (7) Exchange differences on translation of foreign operations (231) 61 226 776 Fair value changes on investments, net 37 42 144 (256) (166) 139 381 513 Total other comprehensive income / (loss), net of tax (152) 149 520 514 Total comprehensive income for the period 7,823 6,283 26,768 24,622 Profit attributable to: Owners of the Company 7,969 6,128 26,233 24,095 Non-controlling interests 6 6 15 13 7,975 6,134 26,248 24,108 Total comprehensive income attributable to: Owners of the Company 7,821 6,276 26,754 24,598 Non-controlling interests 2 7 14 24 7,823 6,283 26,768 24,622 for and on behalf of the Board of Directors of Infosys Limited D\n",
            "Sundaram Salil Parekh Bobby Parikh Lead Independent Director Chief Executive Officer Director and Managing Director Bengaluru Jayesh Sanghrajka A.G.S\n",
            "Manikantha April 18, 2024 Chief Financial Officer Company Secretary 39\n"
          ]
        }
      ],
      "source": [
        "def retrieve_documents(query, top_k=5):\n",
        "    # Generate query embedding\n",
        "    query_embedding = retrieval_model.encode(query).tolist()\n",
        "\n",
        "    # Search for the most relevant documents\n",
        "    results = index.query(vector = query_embedding, top_k=top_k, include_metadata=True)\n",
        "\n",
        "    # Extract the text from the metadata\n",
        "    retrieved_texts = [match['metadata']['text'] for match in results['matches']]\n",
        "    return retrieved_texts\n",
        "\n",
        "\n",
        "query = \"What is the gross profit for Q3 2024?\"\n",
        "retrieved_contexts = retrieve_documents(query)\n",
        "print(\"Retrieved Contexts:\")\n",
        "for context in retrieved_contexts:\n",
        "    print(context)\n",
        "    break"
      ]
    },
    {
      "cell_type": "markdown",
      "source": [
        "## **Generative Model**"
      ],
      "metadata": {
        "id": "oEA13_kboY5x"
      }
    },
    {
      "cell_type": "code",
      "execution_count": 21,
      "metadata": {
        "id": "mYEfy-FHJPTP"
      },
      "outputs": [],
      "source": [
        "import google.generativeai as genai\n",
        "from google.api_core import retry\n",
        "genai.configure(api_key=Gemini_API_KEY)"
      ]
    },
    {
      "cell_type": "code",
      "execution_count": 22,
      "metadata": {
        "id": "7PyCdRxMXYoH"
      },
      "outputs": [],
      "source": [
        "gen_model = genai.GenerativeModel(\n",
        "    'gemini-1.5-flash-latest',\n",
        "    generation_config=genai.GenerationConfig(\n",
        "        temperature=0.3,\n",
        "        top_p=1,\n",
        "        max_output_tokens=200,\n",
        "    ))"
      ]
    },
    {
      "cell_type": "code",
      "execution_count": 23,
      "metadata": {
        "id": "-WXcUSl5XB6o"
      },
      "outputs": [],
      "source": [
        "def generate_answer(query, contexts):\n",
        "    prompt = (\n",
        "        \"You are an expert financial analyst specializing in interpreting financial data and metrics from tabular and textual formats. \"\n",
        "        \"Your task is to analyze the provided financial contexts carefully and provide a clear, concise, and well-reasoned answer to the query. \"\n",
        "        \"If the data is insufficient to answer the query, state explicitly what is missing and why the question cannot be fully answered.\\n\\n\"\n",
        "        \"### Contexts:\\n\"\n",
        "        + \"\\n\".join([f\"Context {i+1}:\\n{context}\" for i, context in enumerate(contexts)]) +\n",
        "        \"\\n\\n\"\n",
        "        \"### Query:\\n\"\n",
        "        + query +\n",
        "        \"\\n\\n\"\n",
        "        \"### Instructions:\\n\"\n",
        "        \"1. Summarize any relevant financial data from the provided contexts.\\n\"\n",
        "        \"2. Use logical reasoning to answer the query based on the summarized data.\\n\"\n",
        "        \"3. If the data is insufficient, explain what information is missing and why it is needed.\\n\\n\"\n",
        "        \"### Answer:\"\n",
        "    )\n",
        "\n",
        "    retry_policy = {\n",
        "        \"retry\": retry.Retry(predicate=retry.if_transient_error, initial=10, multiplier=1.5, timeout=300)\n",
        "    }\n",
        "    response = gen_model.generate_content(\n",
        "        prompt,\n",
        "        request_options=retry_policy\n",
        "    )\n",
        "    return response.text"
      ]
    },
    {
      "cell_type": "code",
      "execution_count": 24,
      "metadata": {
        "colab": {
          "base_uri": "https://localhost:8080/",
          "height": 267
        },
        "id": "m2bsWrS7XLrc",
        "outputId": "65e43c38-9bc3-4b15-c6d5-0baa5b8a1e5b"
      },
      "outputs": [
        {
          "output_type": "stream",
          "name": "stdout",
          "text": [
            "Final Answer:\n"
          ]
        },
        {
          "output_type": "display_data",
          "data": {
            "text/plain": [
              "<IPython.core.display.Markdown object>"
            ],
            "text/markdown": "Based on Context 1 (Page 39), for the three months ended March 31, 2024 (Q1 2024), Infosys Limited reported:\n\n* **Net Income (Profit for the period):** 7,975 INR cr\n* **Operating Expenses:** 3,554 INR cr (This is the sum of selling and marketing expenses and general and administration expenses).\n\nTherefore, in Q1 2024, Infosys's net income significantly exceeded its operating expenses (7,975 INR cr vs 3,554 INR cr).  The net income was more than double the operating expenses.\n"
          },
          "metadata": {}
        }
      ],
      "source": [
        "from IPython.display import display, Markdown\n",
        "\n",
        "def generate_pipeline(query, top_k=5):\n",
        "    # Step 1: Retrieve relevant contexts\n",
        "    contexts = retrieve_documents(query, top_k=top_k)\n",
        "\n",
        "    # Step 2: Generate an answer using the retrieved contexts\n",
        "    answer = generate_answer(query, contexts)\n",
        "    return answer\n",
        "\n",
        "\n",
        "query = \"How do the net income and operating expenses compare for Q1 2024?\"\n",
        "final_answer = generate_pipeline(query)\n",
        "print(\"Final Answer:\")\n",
        "display(Markdown(final_answer))"
      ]
    },
    {
      "cell_type": "code",
      "execution_count": 25,
      "metadata": {
        "colab": {
          "base_uri": "https://localhost:8080/",
          "height": 98
        },
        "id": "kR0Yy1NyHf-p",
        "outputId": "1900dc70-dca0-4b10-aded-b47671ed3d8d"
      },
      "outputs": [
        {
          "output_type": "stream",
          "name": "stdout",
          "text": [
            "Final Answer:\n"
          ]
        },
        {
          "output_type": "display_data",
          "data": {
            "text/plain": [
              "<IPython.core.display.Markdown object>"
            ],
            "text/markdown": "The provided text (Context 1, Page 39) states that the gross profit for the three months ended March 31, 2024 (Q3 2024) was **INR 11,175 crore**.\n"
          },
          "metadata": {}
        }
      ],
      "source": [
        "query_2 = \"What is the gross profit for Q3 2024?\"\n",
        "answer = generate_pipeline(query_2)\n",
        "print(\"Final Answer:\")\n",
        "display(Markdown(answer))"
      ]
    },
    {
      "cell_type": "code",
      "execution_count": 26,
      "metadata": {
        "colab": {
          "base_uri": "https://localhost:8080/",
          "height": 329
        },
        "id": "BA_ZA6oBn1gs",
        "outputId": "ce79e62b-2b57-42b4-d7dc-7635f208e5df"
      },
      "outputs": [
        {
          "output_type": "stream",
          "name": "stdout",
          "text": [
            "Final Answer:\n"
          ]
        },
        {
          "output_type": "display_data",
          "data": {
            "text/plain": [
              "<IPython.core.display.Markdown object>"
            ],
            "text/markdown": "The provided text gives the total expenses for the year ended March 31, 2024 (which includes Q2 2024) but not specifically for Q2 2024 alone.  Context 3 shows total expenses for the year ended March 31, 2024, were INR 122,393 crore.  Context 2 provides a breakdown of expenses for the *three months* ended March 31, 2024 (which *might* be Q2, depending on the company's fiscal year), totaling INR 30,412 crore. However, without knowing Infosys' fiscal year, we cannot definitively say if this three-month period represents Q2.  Therefore, the question cannot be fully answered.  To answer the query accurately, we need to know:\n\n1. **Infosys' fiscal year:**  The provided data shows figures for the year ended"
          },
          "metadata": {}
        }
      ],
      "source": [
        "query_3 = \"What are the total expenses for Q2 2024?\"\n",
        "answer = generate_pipeline(query_3)\n",
        "print(\"Final Answer:\")\n",
        "display(Markdown(answer))"
      ]
    },
    {
      "cell_type": "code",
      "execution_count": 27,
      "metadata": {
        "colab": {
          "base_uri": "https://localhost:8080/",
          "height": 341
        },
        "id": "vlCjrI0ep7z6",
        "outputId": "feda930a-3da8-4008-8e9b-77cf1af06c0d"
      },
      "outputs": [
        {
          "output_type": "stream",
          "name": "stdout",
          "text": [
            "Final Answer:\n"
          ]
        },
        {
          "output_type": "display_data",
          "data": {
            "text/plain": [
              "<IPython.core.display.Markdown object>"
            ],
            "text/markdown": "The provided data is insufficient to calculate the operating margin for the past six months.  While Context 1 and Context 4 provide data on revenue and operating expenses for the three months ended March 31, 2024 and the year ended March 31, 2024,  they do *not* contain data for the three months *prior* to March 31, 2024.  To calculate the operating margin for the past six months, we need revenue and operating expense figures for both the three months ended March 31, 2024 and the three months ended December 31, 2023.  Only with this complete data can we calculate the operating profit (Revenue - Operating Expenses) for each period and then divide by revenue to obtain the operating margin for each three-month period and subsequently calculate the six-month operating margin.\n"
          },
          "metadata": {}
        }
      ],
      "source": [
        "query_4 = \"Show the operating margin for the past 6 months.\"\n",
        "answer = generate_pipeline(query_4)\n",
        "print(\"Final Answer:\")\n",
        "display(Markdown(answer))"
      ]
    },
    {
      "cell_type": "code",
      "execution_count": 28,
      "metadata": {
        "colab": {
          "base_uri": "https://localhost:8080/",
          "height": 98
        },
        "id": "6tLZWVB6SJON",
        "outputId": "393d7892-59b8-43c1-8952-5cf27e3085a0"
      },
      "outputs": [
        {
          "output_type": "stream",
          "name": "stdout",
          "text": [
            "Final Answer:\n"
          ]
        },
        {
          "output_type": "display_data",
          "data": {
            "text/plain": [
              "<IPython.core.display.Markdown object>"
            ],
            "text/markdown": "The total revenue for the year ended March 31, 2024 is INR 153,670 crore.  This information is explicitly stated in Context 1 and Context 2.\n"
          },
          "metadata": {}
        }
      ],
      "source": [
        "query_5 = \"What is the total revenue for the year\"\n",
        "answer = generate_pipeline(query_5)\n",
        "print(\"Final Answer:\")\n",
        "display(Markdown(answer))"
      ]
    },
    {
      "cell_type": "markdown",
      "source": [
        "## **Gradio for UI**"
      ],
      "metadata": {
        "id": "yn10ZyxGohwR"
      }
    },
    {
      "cell_type": "code",
      "execution_count": 32,
      "metadata": {
        "colab": {
          "base_uri": "https://localhost:8080/",
          "height": 645
        },
        "id": "0vZy98rAazjQ",
        "outputId": "5aedfa9d-102a-48cd-9d2c-a950d7a16e32"
      },
      "outputs": [
        {
          "output_type": "stream",
          "name": "stdout",
          "text": [
            "Running Gradio in a Colab notebook requires sharing enabled. Automatically setting `share=True` (you can turn this off by setting `share=False` in `launch()` explicitly).\n",
            "\n",
            "Colab notebook detected. To show errors in colab notebook, set debug=True in launch()\n",
            "* Running on public URL: https://f92ac6ffa1c66b0cd0.gradio.live\n",
            "\n",
            "This share link expires in 72 hours. For free permanent hosting and GPU upgrades, run `gradio deploy` from the terminal in the working directory to deploy to Hugging Face Spaces (https://huggingface.co/spaces)\n"
          ]
        },
        {
          "output_type": "display_data",
          "data": {
            "text/plain": [
              "<IPython.core.display.HTML object>"
            ],
            "text/html": [
              "<div><iframe src=\"https://f92ac6ffa1c66b0cd0.gradio.live\" width=\"100%\" height=\"500\" allow=\"autoplay; camera; microphone; clipboard-read; clipboard-write;\" frameborder=\"0\" allowfullscreen></iframe></div>"
            ]
          },
          "metadata": {}
        },
        {
          "output_type": "execute_result",
          "data": {
            "text/plain": []
          },
          "metadata": {},
          "execution_count": 32
        }
      ],
      "source": [
        "import gradio as gr\n",
        "\n",
        "def qa_bot_interface(pdf_file, query):\n",
        "    \"\"\"\n",
        "    Handles user interaction with the QA bot.\n",
        "\n",
        "    Args:\n",
        "    - pdf_file (UploadedFile): The uploaded PDF file.\n",
        "    - query (str): The financial query entered by the user.\n",
        "\n",
        "    Returns:\n",
        "    - str: Retrieved data (contexts).\n",
        "    - str: Generated answer.\n",
        "    \"\"\"\n",
        "    if pdf_file is None:\n",
        "        return \"No PDF uploaded.\", \"Please upload a PDF to start.\"\n",
        "\n",
        "    if not query:\n",
        "        return \"No query provided.\", \"Please enter a query to get an answer.\"\n",
        "\n",
        "    # Step 1: Extract text and table data from the PDF\n",
        "    text_data, table_data = process_pdf(pdf_file.name)\n",
        "\n",
        "    # Step 2: Preprocess the extracted data\n",
        "    preprocessed_data = preprocess_data(text_data, table_data)\n",
        "\n",
        "    # Step 3: Chunk the data\n",
        "    chunked_data = [chunk_with_langchain(page) for page in preprocessed_data]\n",
        "\n",
        "    # Step 4: Generate and store embeddings\n",
        "    embeddings = generate_embeddings(chunked_data)\n",
        "    upsert_embeddings(embeddings, chunked_data)\n",
        "\n",
        "    # Step 5: Retrieve relevant documents and generate answer\n",
        "    answer = generate_pipeline(query)\n",
        "\n",
        "    # Return retrieved data and the final answer\n",
        "    return answer\n",
        "\n",
        "\n",
        "# Build the Gradio interface\n",
        "with gr.Blocks() as interface:\n",
        "    gr.Markdown(\"# 📊 Financial Data QA Bot\")\n",
        "    gr.Markdown(\n",
        "        \"Upload a PDF containing financial data (e.g., P&L tables) and ask questions about the data.\"\n",
        "    )\n",
        "\n",
        "    # File upload\n",
        "    with gr.Row():\n",
        "        pdf_input = gr.File(label=\"Upload PDF\", file_types=[\".pdf\"])\n",
        "\n",
        "    # Query input\n",
        "    query_input = gr.Textbox(label=\"Enter your financial query\", placeholder=\"e.g., What are the total expenses for Q2 2023?\")\n",
        "\n",
        "    # Output areas\n",
        "    with gr.Row():\n",
        "        #retrieved_data_output = gr.Textbox(label=\"Retrieved Financial Data\", lines=10, interactive=False)\n",
        "        answer_output = gr.Textbox(label=\"Generated Answer\", lines=5, interactive=False)\n",
        "\n",
        "    # Submit button\n",
        "    submit_button = gr.Button(\"Submit\")\n",
        "\n",
        "    # Link the interface with the function\n",
        "    submit_button.click(\n",
        "        fn=qa_bot_interface,\n",
        "        inputs=[pdf_input, query_input],\n",
        "        outputs=[answer_output],\n",
        "    )\n",
        "\n",
        "# Launch the interface\n",
        "interface.launch()"
      ]
    }
  ],
  "metadata": {
    "colab": {
      "provenance": [],
      "include_colab_link": true
    },
    "kernelspec": {
      "display_name": "Python 3",
      "name": "python3"
    },
    "language_info": {
      "codemirror_mode": {
        "name": "ipython",
        "version": 3
      },
      "file_extension": ".py",
      "mimetype": "text/x-python",
      "name": "python",
      "nbconvert_exporter": "python",
      "pygments_lexer": "ipython3",
      "version": "3.10.12"
    }
  },
  "nbformat": 4,
  "nbformat_minor": 0
}